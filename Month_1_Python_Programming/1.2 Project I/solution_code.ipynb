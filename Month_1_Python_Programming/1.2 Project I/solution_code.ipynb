{
 "cells": [
  {
   "cell_type": "code",
   "execution_count": 8,
   "metadata": {},
   "outputs": [],
   "source": [
    "# importing libraries\n",
    "import pandas as pd\n",
    "from openpyxl import load_workbook\n",
    "\n",
    "# define the number of experiments\n",
    "num_exp = 160\n",
    "count = 1\n",
    "\n",
    "# create a loop to iterate all processes\n",
    "while count <= num_exp:\n",
    "    # open workbooks\n",
    "    workbook_actual = load_workbook(filename= r'C:\\Users\\Sir_Praise\\Documents\\Teaching Materials\\4 Months Class\\Month_1_Python_Programming\\1.2 Project I\\Given_datasets\\actual_data.xlsx')\n",
    "    workbook_source = load_workbook(filename= r'C:\\Users\\Sir_Praise\\Documents\\Teaching Materials\\4 Months Class\\Month_1_Python_Programming\\1.2 Project I\\Given_datasets\\source_data.xlsx')\n",
    "    \n",
    "    \n",
    "    # make the workbook active\n",
    "    sheet_actual = workbook_actual.active\n",
    "    sheet_source = workbook_source.active\n",
    "    \n",
    "    i = count + 2\n",
    "    \n",
    "    sheet_actual[\"A405\"]  = f\"    'PROD1' 'G'     {sheet_source[f'B{i}'].value}  {sheet_source[f'C{i}'].value}   8400 'OIL'  /\"\n",
    "    sheet_actual[\"A406\"]  = f\"    'PROD2' 'G'    {sheet_source[f'D{i}'].value}  {sheet_source[f'E{i}'].value}   8400 'OIL'  /\"\n",
    "    sheet_actual[\"A407\"] = f\"    'PROD3' 'G'    {sheet_source[f'F{i}'].value} {sheet_source[f'G{i}'].value}   8400 'OIL'  /\"\n",
    "    sheet_actual[\"A408\"] = f\"    'PROD4' 'G'     {sheet_source[f'H{i}'].value} {sheet_source[f'I{i}'].value}   8400 'OIL'  /\"\n",
    "    sheet_actual[\"A409\"] = f\"    'INJ1'  'G'    {sheet_source[f'J{i}'].value} {sheet_source[f'K{i}'].value}   8400 'WAT'  /\"\n",
    "    \n",
    "    sheet_actual[\"A417\"] = f\"    'PROD1'   {sheet_source[f'B{i}'].value}  {sheet_source[f'B{i}'].value}  1  1 'OPEN' 0   -1   0.5  /\"\n",
    "    sheet_actual[\"A418\"] = f\"    'PROD2'  {sheet_source[f'D{i}'].value}  {sheet_source[f'E{i}'].value}  1  1 'OPEN' 0   -1   0.5  /\"\n",
    "    sheet_actual[\"A419\"] = f\"    'PROD3'  {sheet_source[f'F{i}'].value} {sheet_source[f'F{i}'].value}  1  1 'OPEN' 0   -1   0.5  /\"\n",
    "    sheet_actual[\"A420\"] = f\"    'PROD4'   {sheet_source[f'H{i}'].value} {sheet_source[f'I{i}'].value}  1  1 'OPEN' 0   -1   0.5  /\"\n",
    "    sheet_actual[\"A421\"] = f\"    'INJ1'   {sheet_source[f'J{i}'].value} {sheet_source[f'K{i}'].value}  1  1 'OPEN' 1   -1   0.5  /\"\n",
    "    \n",
    "    # define fine destination address\n",
    "    filename = rf\"C:\\Users\\Sir_Praise\\Documents\\Teaching Materials\\4 Months Class\\Month_1_Python_Programming\\1.2 Project I\\Excel_saved\\RUN_{count}.xlsx\"\n",
    "    \n",
    "    # save the data files\n",
    "    workbook_actual.save(filename=filename)\n",
    "    \n",
    "    # read the data into pandas dataframe and then save it in the required .data extension\n",
    "    file = pd.read_excel(filename)\n",
    "    file.to_csv(rf\"C:\\Users\\Sir_Praise\\Documents\\Teaching Materials\\4 Months Class\\Month_1_Python_Programming\\1.2 Project I\\Data_saved\\RUN_{count}\"+\".DATA\", index=False)\n",
    "    \n",
    "    count += 1"
   ]
  },
  {
   "cell_type": "code",
   "execution_count": 9,
   "metadata": {},
   "outputs": [],
   "source": [
    "# pip install openpyxl"
   ]
  },
  {
   "cell_type": "markdown",
   "metadata": {},
   "source": [
    "Reference link: https://openpyxl.readthedocs.io/en/stable/"
   ]
  }
 ],
 "metadata": {
  "kernelspec": {
   "display_name": "Python 3",
   "language": "python",
   "name": "python3"
  },
  "language_info": {
   "codemirror_mode": {
    "name": "ipython",
    "version": 3
   },
   "file_extension": ".py",
   "mimetype": "text/x-python",
   "name": "python",
   "nbconvert_exporter": "python",
   "pygments_lexer": "ipython3",
   "version": "3.7.6"
  }
 },
 "nbformat": 4,
 "nbformat_minor": 4
}
